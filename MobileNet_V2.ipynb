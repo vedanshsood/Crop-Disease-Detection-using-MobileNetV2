{
  "nbformat": 4,
  "nbformat_minor": 0,
  "metadata": {
    "colab": {
      "provenance": [],
      "gpuType": "T4"
    },
    "kernelspec": {
      "name": "python3",
      "display_name": "Python 3"
    },
    "language_info": {
      "name": "python"
    },
    "accelerator": "GPU"
  },
  "cells": [
    {
      "cell_type": "code",
      "execution_count": 1,
      "metadata": {
        "id": "HpkV3JDBL8Bc"
      },
      "outputs": [],
      "source": [
        "import zipfile\n",
        "zip_ref = zipfile.ZipFile('/content/drive/MyDrive/Colab Notebooks/train.zip', 'r')\n",
        "zip_ref.extractall('/content')\n",
        "zip_ref.close()\n",
        "\n",
        "zip_ref = zipfile.ZipFile('/content/drive/MyDrive/Colab Notebooks/valid.zip', 'r')\n",
        "zip_ref.extractall('/content')\n",
        "zip_ref.close()\n",
        "\n",
        "zip_ref = zipfile.ZipFile('/content/drive/MyDrive/Colab Notebooks/test.zip', 'r')\n",
        "zip_ref.extractall('/content')\n",
        "zip_ref.close()"
      ]
    },
    {
      "cell_type": "code",
      "source": [
        "# Import OS module\n",
        "import os\n",
        "\n",
        "# Imports\n",
        "import numpy as np\n",
        "import pandas as pd\n",
        "\n",
        "# Visualization\n",
        "import matplotlib.pyplot as plt\n",
        "\n",
        "# Tensorflow\n",
        "import tensorflow as tf\n",
        "from tensorflow import keras\n",
        "from tensorflow.keras import callbacks, layers, Model\n",
        "from tensorflow.keras.preprocessing.image import ImageDataGenerator\n",
        "\n",
        "# Notebook magic\n",
        "%matplotlib inline"
      ],
      "metadata": {
        "id": "YhE3c1Z0MOUd"
      },
      "execution_count": 2,
      "outputs": []
    },
    {
      "cell_type": "code",
      "source": [
        "!nvidia-smi"
      ],
      "metadata": {
        "colab": {
          "base_uri": "https://localhost:8080/"
        },
        "id": "1dJILoMrd581",
        "outputId": "e6a4bbef-019d-46aa-fef6-e032a99f4087"
      },
      "execution_count": 3,
      "outputs": [
        {
          "output_type": "stream",
          "name": "stdout",
          "text": [
            "Mon Oct  9 12:45:37 2023       \n",
            "+-----------------------------------------------------------------------------+\n",
            "| NVIDIA-SMI 525.105.17   Driver Version: 525.105.17   CUDA Version: 12.0     |\n",
            "|-------------------------------+----------------------+----------------------+\n",
            "| GPU  Name        Persistence-M| Bus-Id        Disp.A | Volatile Uncorr. ECC |\n",
            "| Fan  Temp  Perf  Pwr:Usage/Cap|         Memory-Usage | GPU-Util  Compute M. |\n",
            "|                               |                      |               MIG M. |\n",
            "|===============================+======================+======================|\n",
            "|   0  Tesla T4            Off  | 00000000:00:04.0 Off |                    0 |\n",
            "| N/A   56C    P8    10W /  70W |      0MiB / 15360MiB |      0%      Default |\n",
            "|                               |                      |                  N/A |\n",
            "+-------------------------------+----------------------+----------------------+\n",
            "                                                                               \n",
            "+-----------------------------------------------------------------------------+\n",
            "| Processes:                                                                  |\n",
            "|  GPU   GI   CI        PID   Type   Process name                  GPU Memory |\n",
            "|        ID   ID                                                   Usage      |\n",
            "|=============================================================================|\n",
            "|  No running processes found                                                 |\n",
            "+-----------------------------------------------------------------------------+\n"
          ]
        }
      ]
    },
    {
      "cell_type": "code",
      "source": [
        "# Configure variables for Transfer learning\n",
        "image_size = 224\n",
        "target_size = (image_size, image_size)\n",
        "input_shape = (image_size, image_size, 3)\n",
        "grid_shape = (1, image_size, image_size, 3)\n",
        "\n",
        "batch_size = 32"
      ],
      "metadata": {
        "id": "cYMyM2w7MOeT"
      },
      "execution_count": 4,
      "outputs": []
    },
    {
      "cell_type": "code",
      "source": [
        "train_dir = \"/content/train\"\n",
        "test_dir = \"/content/test\"\n",
        "valid_dir = \"/content/valid\""
      ],
      "metadata": {
        "id": "Xzkv93R9MiIi"
      },
      "execution_count": 5,
      "outputs": []
    },
    {
      "cell_type": "code",
      "source": [
        "# Define augmentations for train dataset and read the images\n",
        "train_aug = ImageDataGenerator(\n",
        "    # Rescale\n",
        "    rescale=1/255.0,\n",
        "    # Filling for W/H shift\n",
        "    fill_mode=\"nearest\",\n",
        "    # Width and Height shift\n",
        "    width_shift_range=0.2,\n",
        "    height_shift_range=0.2,\n",
        "    # Random zooms\n",
        "    zoom_range=0.2,\n",
        "    # Random Shearing aug\n",
        "    shear_range=0.2,\n",
        ")\n",
        "\n",
        "# Read data from directory\n",
        "train_data = train_aug.flow_from_directory(\n",
        "    train_dir,\n",
        "    target_size=(image_size, image_size),\n",
        "    batch_size=batch_size,\n",
        "    class_mode=\"categorical\"\n",
        ")"
      ],
      "metadata": {
        "colab": {
          "base_uri": "https://localhost:8080/"
        },
        "id": "lNVsMEb_MiPK",
        "outputId": "6d45e4f7-7cc0-464f-bfb2-e2320e25b7f4"
      },
      "execution_count": 6,
      "outputs": [
        {
          "output_type": "stream",
          "name": "stdout",
          "text": [
            "Found 70295 images belonging to 38 classes.\n"
          ]
        }
      ]
    },
    {
      "cell_type": "code",
      "source": [
        "cats = list(train_data.class_indices.keys())"
      ],
      "metadata": {
        "id": "a8PaEww1MiV2"
      },
      "execution_count": 7,
      "outputs": []
    },
    {
      "cell_type": "code",
      "source": [
        "# Augmentations for test data\n",
        "test_aug = ImageDataGenerator(\n",
        "    # Rescale\n",
        "    rescale=1/255.0\n",
        ")\n",
        "\n",
        "# Read data from directory\n",
        "test_data = test_aug.flow_from_directory(\n",
        "    test_dir,\n",
        "    target_size=(image_size, image_size),\n",
        "    batch_size=batch_size,\n",
        "    class_mode=\"categorical\"\n",
        ")\n",
        "\n",
        "# valid data\n",
        "valid_aug = ImageDataGenerator(\n",
        "    # Rescale\n",
        "    rescale=1/255.0\n",
        ")\n",
        "\n",
        "# Read data from directory\n",
        "valid_data = test_aug.flow_from_directory(\n",
        "    valid_dir,\n",
        "    target_size=(image_size, image_size),\n",
        "    batch_size=batch_size,\n",
        "    class_mode=\"categorical\"\n",
        ")"
      ],
      "metadata": {
        "colab": {
          "base_uri": "https://localhost:8080/"
        },
        "id": "emE-Y8z_Midp",
        "outputId": "5466c8f2-4284-48ca-a74a-2e585ffc32ce"
      },
      "execution_count": 8,
      "outputs": [
        {
          "output_type": "stream",
          "name": "stdout",
          "text": [
            "Found 33 images belonging to 1 classes.\n",
            "Found 17572 images belonging to 38 classes.\n"
          ]
        }
      ]
    },
    {
      "cell_type": "code",
      "source": [
        "# Load the base model\n",
        "mbnet_v2 = keras.applications.MobileNetV2(\n",
        "    weights=\"imagenet\",\n",
        "    include_top=False,\n",
        "    input_shape=input_shape\n",
        ")\n",
        "\n",
        "# Stop from being trainable\n",
        "mbnet_v2.trainable = False"
      ],
      "metadata": {
        "colab": {
          "base_uri": "https://localhost:8080/"
        },
        "id": "0rEMo7vPOIzj",
        "outputId": "4cecf651-1cc5-4aeb-84fd-ea922759baae"
      },
      "execution_count": 9,
      "outputs": [
        {
          "output_type": "stream",
          "name": "stdout",
          "text": [
            "Downloading data from https://storage.googleapis.com/tensorflow/keras-applications/mobilenet_v2/mobilenet_v2_weights_tf_dim_ordering_tf_kernels_1.0_224_no_top.h5\n",
            "9406464/9406464 [==============================] - 0s 0us/step\n"
          ]
        }
      ]
    },
    {
      "cell_type": "code",
      "source": [
        "# Define the layers\n",
        "inputs = keras.Input(shape=input_shape)\n",
        "\n",
        "# Get the layer\n",
        "x = mbnet_v2(inputs, training = False)\n",
        "\n",
        "# Stack layers further\n",
        "x = tf.keras.layers.GlobalAveragePooling2D()(x)\n",
        "x = tf.keras.layers.Dropout(0.2)(x)\n",
        "x = tf.keras.layers.Dense(len(cats), activation=\"softmax\")(x)\n",
        "\n",
        "# Combine the model\n",
        "model = Model(inputs=inputs, outputs=x)\n",
        "\n",
        "# Summary\n",
        "model.summary()"
      ],
      "metadata": {
        "colab": {
          "base_uri": "https://localhost:8080/"
        },
        "id": "NKR9RyjrOI7W",
        "outputId": "70c8f8db-6c24-4486-c22e-bd79fed5cc38"
      },
      "execution_count": 10,
      "outputs": [
        {
          "output_type": "stream",
          "name": "stdout",
          "text": [
            "Model: \"model\"\n",
            "_________________________________________________________________\n",
            " Layer (type)                Output Shape              Param #   \n",
            "=================================================================\n",
            " input_2 (InputLayer)        [(None, 224, 224, 3)]     0         \n",
            "                                                                 \n",
            " mobilenetv2_1.00_224 (Func  (None, 7, 7, 1280)        2257984   \n",
            " tional)                                                         \n",
            "                                                                 \n",
            " global_average_pooling2d (  (None, 1280)              0         \n",
            " GlobalAveragePooling2D)                                         \n",
            "                                                                 \n",
            " dropout (Dropout)           (None, 1280)              0         \n",
            "                                                                 \n",
            " dense (Dense)               (None, 38)                48678     \n",
            "                                                                 \n",
            "=================================================================\n",
            "Total params: 2306662 (8.80 MB)\n",
            "Trainable params: 48678 (190.15 KB)\n",
            "Non-trainable params: 2257984 (8.61 MB)\n",
            "_________________________________________________________________\n"
          ]
        }
      ]
    },
    {
      "cell_type": "code",
      "source": [
        "# Compile\n",
        "model.compile(optimizer=\"adam\", loss=\"categorical_crossentropy\", metrics=[\"accuracy\"])\n",
        "\n",
        "# Define callbacks to use\n",
        "early_stopping_cb = callbacks.EarlyStopping(monitor=\"loss\", patience=3)"
      ],
      "metadata": {
        "id": "An-gH_1VOI-k"
      },
      "execution_count": 11,
      "outputs": []
    },
    {
      "cell_type": "code",
      "source": [
        "# Num epochs\n",
        "epochs = 30\n",
        "\n",
        "# Train model\n",
        "history = model.fit(\n",
        "    train_data,\n",
        "    epochs=epochs,\n",
        "    steps_per_epoch=200,\n",
        "    validation_data=valid_data,\n",
        "    callbacks=[early_stopping_cb]\n",
        ")"
      ],
      "metadata": {
        "colab": {
          "base_uri": "https://localhost:8080/"
        },
        "id": "dNco_-W5OXVI",
        "outputId": "e75bb671-ea28-462d-ec7a-b4b326fc3858"
      },
      "execution_count": 12,
      "outputs": [
        {
          "output_type": "stream",
          "name": "stdout",
          "text": [
            "Epoch 1/30\n",
            "200/200 [==============================] - 136s 622ms/step - loss: 1.6747 - accuracy: 0.5619 - val_loss: 0.7982 - val_accuracy: 0.7923\n",
            "Epoch 2/30\n",
            "200/200 [==============================] - 119s 597ms/step - loss: 0.7560 - accuracy: 0.7862 - val_loss: 0.5548 - val_accuracy: 0.8465\n",
            "Epoch 3/30\n",
            "200/200 [==============================] - 115s 575ms/step - loss: 0.5935 - accuracy: 0.8259 - val_loss: 0.4440 - val_accuracy: 0.8739\n",
            "Epoch 4/30\n",
            "200/200 [==============================] - 122s 613ms/step - loss: 0.4832 - accuracy: 0.8589 - val_loss: 0.3987 - val_accuracy: 0.8841\n",
            "Epoch 5/30\n",
            "200/200 [==============================] - 122s 608ms/step - loss: 0.4370 - accuracy: 0.8672 - val_loss: 0.3636 - val_accuracy: 0.8909\n",
            "Epoch 6/30\n",
            "200/200 [==============================] - 114s 570ms/step - loss: 0.4161 - accuracy: 0.8670 - val_loss: 0.3638 - val_accuracy: 0.8880\n",
            "Epoch 7/30\n",
            "200/200 [==============================] - 113s 565ms/step - loss: 0.4000 - accuracy: 0.8789 - val_loss: 0.3149 - val_accuracy: 0.9034\n",
            "Epoch 8/30\n",
            "200/200 [==============================] - 116s 582ms/step - loss: 0.3569 - accuracy: 0.8870 - val_loss: 0.3263 - val_accuracy: 0.8965\n",
            "Epoch 9/30\n",
            "200/200 [==============================] - 116s 580ms/step - loss: 0.3662 - accuracy: 0.8825 - val_loss: 0.3006 - val_accuracy: 0.9077\n",
            "Epoch 10/30\n",
            "200/200 [==============================] - 114s 568ms/step - loss: 0.3438 - accuracy: 0.8892 - val_loss: 0.3045 - val_accuracy: 0.9064\n",
            "Epoch 11/30\n",
            "200/200 [==============================] - 112s 561ms/step - loss: 0.3430 - accuracy: 0.8883 - val_loss: 0.2800 - val_accuracy: 0.9136\n",
            "Epoch 12/30\n",
            "200/200 [==============================] - 120s 600ms/step - loss: 0.3260 - accuracy: 0.8981 - val_loss: 0.2837 - val_accuracy: 0.9083\n",
            "Epoch 13/30\n",
            "200/200 [==============================] - 121s 606ms/step - loss: 0.3235 - accuracy: 0.8947 - val_loss: 0.2785 - val_accuracy: 0.9113\n",
            "Epoch 14/30\n",
            "200/200 [==============================] - 120s 601ms/step - loss: 0.3054 - accuracy: 0.9009 - val_loss: 0.2741 - val_accuracy: 0.9140\n",
            "Epoch 15/30\n",
            "200/200 [==============================] - 121s 608ms/step - loss: 0.3149 - accuracy: 0.8983 - val_loss: 0.2497 - val_accuracy: 0.9196\n",
            "Epoch 16/30\n",
            "200/200 [==============================] - 112s 560ms/step - loss: 0.3073 - accuracy: 0.8986 - val_loss: 0.2589 - val_accuracy: 0.9171\n",
            "Epoch 17/30\n",
            "200/200 [==============================] - 114s 568ms/step - loss: 0.2955 - accuracy: 0.9014 - val_loss: 0.2563 - val_accuracy: 0.9191\n",
            "Epoch 18/30\n",
            "200/200 [==============================] - 113s 564ms/step - loss: 0.2814 - accuracy: 0.9089 - val_loss: 0.2579 - val_accuracy: 0.9161\n",
            "Epoch 19/30\n",
            "200/200 [==============================] - 122s 610ms/step - loss: 0.2843 - accuracy: 0.9091 - val_loss: 0.2496 - val_accuracy: 0.9200\n",
            "Epoch 20/30\n",
            "200/200 [==============================] - 115s 577ms/step - loss: 0.2953 - accuracy: 0.9008 - val_loss: 0.2355 - val_accuracy: 0.9227\n",
            "Epoch 21/30\n",
            "200/200 [==============================] - 112s 558ms/step - loss: 0.2839 - accuracy: 0.9072 - val_loss: 0.2462 - val_accuracy: 0.9206\n"
          ]
        }
      ]
    },
    {
      "cell_type": "code",
      "source": [
        "model.evaluate(valid_data)"
      ],
      "metadata": {
        "colab": {
          "base_uri": "https://localhost:8080/"
        },
        "id": "qbRioYYTohci",
        "outputId": "6d479660-9339-4e92-bd18-828d831760c0"
      },
      "execution_count": 14,
      "outputs": [
        {
          "output_type": "stream",
          "name": "stdout",
          "text": [
            "550/550 [==============================] - 43s 77ms/step - loss: 0.2462 - accuracy: 0.9206\n"
          ]
        },
        {
          "output_type": "execute_result",
          "data": {
            "text/plain": [
              "[0.24620495736598969, 0.9206123352050781]"
            ]
          },
          "metadata": {},
          "execution_count": 14
        }
      ]
    },
    {
      "cell_type": "code",
      "source": [
        "# Plotting\n",
        "hist = history.history\n",
        "\n",
        "# Plot accuracy and loss\n",
        "plt.plot(hist[\"accuracy\"], label=\"accuracy\")\n",
        "plt.plot(hist[\"loss\"], label=\"loss\")\n",
        "\n",
        "if \"val_accuracy\" in hist and \"val_loss\" in hist:\n",
        "    plt.plot(hist[\"val_accuracy\"], label=\"val_accuracy\")\n",
        "    plt.plot(hist[\"val_loss\"], label=\"val_loss\")\n",
        "\n",
        "# Add the labels and legend\n",
        "plt.ylabel(\"Accuracy / Loss\")\n",
        "plt.xlabel(\"Epochs #\")\n",
        "plt.legend()\n",
        "\n",
        "# Finally show the plot\n",
        "plt.show()"
      ],
      "metadata": {
        "colab": {
          "base_uri": "https://localhost:8080/",
          "height": 449
        },
        "id": "2_epTbG8ohlq",
        "outputId": "1b08b1b7-e4bb-4379-8ce6-f2156da96f2d"
      },
      "execution_count": 15,
      "outputs": [
        {
          "output_type": "display_data",
          "data": {
            "text/plain": [
              "<Figure size 640x480 with 1 Axes>"
            ],
            "image/png": "[encoded data removed]"
          },
          "metadata": {}
        }
      ]
    },
    {
      "cell_type": "code",
      "source": [
        "model.save(\"plant_disease_detection.h5\")"
      ],
      "metadata": {
        "colab": {
          "base_uri": "https://localhost:8080/"
        },
        "id": "ZG4VCo6qpPqn",
        "outputId": "247cf2ad-8c97-4670-b821-54f4e6f800b3"
      },
      "execution_count": 16,
      "outputs": [
        {
          "output_type": "stream",
          "name": "stderr",
          "text": [
            "/usr/local/lib/python3.10/dist-packages/keras/src/engine/training.py:3000: UserWarning: You are saving your model as an HDF5 file via `model.save()`. This file format is considered legacy. We recommend using instead the native Keras format, e.g. `model.save('my_model.keras')`.\n",
            "  saving_api.save_model(\n"
          ]
        }
      ]
    },
    {
      "cell_type": "code",
      "source": [
        "import json\n",
        "\n",
        "from IPython.display import FileLink\n",
        "\n",
        "# Link the files\n",
        "FileLink(\"./plant_disease_detection.h5\")"
      ],
      "metadata": {
        "colab": {
          "base_uri": "https://localhost:8080/",
          "height": 34
        },
        "id": "pv990j8DpRrn",
        "outputId": "6b290f53-9ad7-4d02-c297-907325b449f0"
      },
      "execution_count": 17,
      "outputs": [
        {
          "output_type": "execute_result",
          "data": {
            "text/plain": [
              "/content/plant_disease_detection.h5"
            ],
            "text/html": [
              "<a href='./plant_disease_detection.h5' target='_blank'>./plant_disease_detection.h5</a><br>"
            ]
          },
          "metadata": {},
          "execution_count": 17
        }
      ]
    },
    {
      "cell_type": "code",
      "source": [
        "# Dump the categories\n",
        "with open(\"categories.json\", \"w\") as file:\n",
        "  json.dump(train_data.class_indices, file)\n",
        "\n",
        "# Link categories JSON\n",
        "FileLink(\"categories.json\")"
      ],
      "metadata": {
        "colab": {
          "base_uri": "https://localhost:8080/",
          "height": 34
        },
        "id": "5_i8ZlV3pR3c",
        "outputId": "4214219a-2538-4193-f782-dc4dc4e9af06"
      },
      "execution_count": 18,
      "outputs": [
        {
          "output_type": "execute_result",
          "data": {
            "text/plain": [
              "/content/categories.json"
            ],
            "text/html": [
              "<a href='categories.json' target='_blank'>categories.json</a><br>"
            ]
          },
          "metadata": {},
          "execution_count": 18
        }
      ]
    },
    {
      "cell_type": "code",
      "source": [
        "from tensorflow.keras.applications.mobilenet_v2 import preprocess_input, decode_predictions\n",
        "from tensorflow.keras.preprocessing import image\n",
        "\n",
        "image_path = '/content/test/test_data/TomatoHealthy1.JPG'\n",
        "img = image.load_img(image_path, target_size=(224, 224))  # Adjust target_size as needed\n",
        "img_array = image.img_to_array(img)\n",
        "img_array = np.expand_dims(img_array, axis=0)\n",
        "img_array = preprocess_input(img_array)\n"
      ],
      "metadata": {
        "id": "yiPqYUlTr7VM"
      },
      "execution_count": 31,
      "outputs": []
    },
    {
      "cell_type": "code",
      "source": [
        "predictions = model.predict(img_array)"
      ],
      "metadata": {
        "colab": {
          "base_uri": "https://localhost:8080/"
        },
        "id": "ySlMFThSsVZ-",
        "outputId": "0e3880ae-acba-4243-8798-ae84c7343835"
      },
      "execution_count": 32,
      "outputs": [
        {
          "output_type": "stream",
          "name": "stdout",
          "text": [
            "1/1 [==============================] - 0s 23ms/step\n"
          ]
        }
      ]
    },
    {
      "cell_type": "code",
      "source": [
        "class_mapping = {\n",
        "    0: 'Apple Scab',\n",
        "    1: 'Apple Black Rot',\n",
        "    2: 'Apple Rust',\n",
        "    3: 'Apple Healthy',\n",
        "    4: 'Blueberry Healthy',\n",
        "    5: 'Cherry (including sour) Powdery mildew',\n",
        "    6: 'Cherry (including sour) healthy',\n",
        "    7: 'Corn (maize) Cercospora leaf spot Gray leaf spot',\n",
        "    8: 'Corn (maize) Common rust',\n",
        "    9: 'Corn (maize) Northern Leaf Blight',\n",
        "    10: 'Corn (maize) Healthy',\n",
        "    11: 'Grape Black Rot',\n",
        "    12: 'Grape Esca (Black Measles)',\n",
        "    13: 'Grape Leaf blight (Isariopsis Leaf Spot)',\n",
        "    14: 'Grape Healthy',\n",
        "    15: 'Orange Haunglongbing (Citrus greening)',\n",
        "    16: 'Peach Bacterial Spot',\n",
        "    17: 'Peach Healthy',\n",
        "    18: 'Pepper Bell Bacterial Spot',\n",
        "    19: 'Pepper Bell Healthy',\n",
        "    20: 'Potato Early Blight',\n",
        "    21: 'Potato Late Blight',\n",
        "    22: 'Potato Healthy',\n",
        "    23: 'Raspberry Healthy',\n",
        "    24: 'Soyabean Healthy',\n",
        "    25: 'Squash Powdery Mildew',\n",
        "    26: 'Strawberry Leaf Scorch',\n",
        "    27: 'Strawberry Healthy',\n",
        "    28: 'Tomato Bacterial Spot',\n",
        "    29: 'Tomato Early Blight',\n",
        "    30: 'Tomato Late Blight',\n",
        "    31: 'Tomato Leaf Mold',\n",
        "    32: 'Tomato Septoria leaf spot',\n",
        "    33: 'Tomato Spider mites Two-spotted spider mite',\n",
        "    34: 'Tomato Target Spot',\n",
        "    35: 'Tomato Tomato Yellow Leaf Curl Virus',\n",
        "    36: 'Tomato Tomato mosaic virus',\n",
        "    37: 'Tomato Healthy',\n",
        "    38: 'None',\n",
        "    }"
      ],
      "metadata": {
        "id": "KslivFTHsZ8O"
      },
      "execution_count": 33,
      "outputs": []
    },
    {
      "cell_type": "code",
      "source": [
        "predicted_class_index = np.argmax(predictions)\n",
        "predicted_disease_class = class_mapping.get(predicted_class_index, 'Unknown')\n",
        "print(\"Predicted Disease Class:\", predicted_disease_class)"
      ],
      "metadata": {
        "colab": {
          "base_uri": "https://localhost:8080/"
        },
        "id": "Q7v4tw8yxr48",
        "outputId": "d4cb8eea-c0eb-4a61-d850-bce21a5b19d2"
      },
      "execution_count": 34,
      "outputs": [
        {
          "output_type": "stream",
          "name": "stdout",
          "text": [
            "Predicted Disease Class: Tomato Healthy\n"
          ]
        }
      ]
    }
  ]
}